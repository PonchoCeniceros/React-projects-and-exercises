{
 "cells": [
  {
   "cell_type": "markdown",
   "metadata": {},
   "source": [
    "### Sistema de visión para la pantalla LCD del medidor ultrasónico domiciliario"
   ]
  },
  {
   "cell_type": "code",
   "execution_count": 1,
   "metadata": {},
   "outputs": [],
   "source": [
    "import cv2\n",
    "import numpy as np\n",
    "import numpy.typing as npt\n",
    "import matplotlib.pyplot as plt"
   ]
  },
  {
   "cell_type": "markdown",
   "metadata": {},
   "source": [
    "### Métodos para calibración\n",
    "* Obtener las coordenadas de la pantalla LCD para corregir rotaciones "
   ]
  },
  {
   "cell_type": "code",
   "execution_count": null,
   "metadata": {},
   "outputs": [],
   "source": [
    "imgRaw = cv2.imread(\"img/COM_1.png\")\n",
    "\n",
    "def clickEvent(event, x, y, flags, params):\n",
    "    if event == cv2.EVENT_LBUTTONDOWN:\n",
    "        print(x, ' ', y)\n",
    "        font = cv2.FONT_HERSHEY_SIMPLEX\n",
    "        cv2.putText(imgRaw, str(x) + ',' +\n",
    "                    str(y), (x,y), font,\n",
    "                    1, (0, 0, 255), 2)\n",
    "        cv2.imshow('image', imgRaw)\n",
    "    if event==cv2.EVENT_RBUTTONDOWN:\n",
    "        print(x, ' ', y)\n",
    "        font = cv2.FONT_HERSHEY_SIMPLEX\n",
    "        b = imgRaw[y, x, 0]\n",
    "        g = imgRaw[y, x, 1]\n",
    "        r = imgRaw[y, x, 2]\n",
    "        cv2.putText(imgRaw, str(b) + ',' +\n",
    "                    str(g) + ',' + str(r),\n",
    "                    (x,y), font, 1,\n",
    "                    (255, 255, 0), 2)\n",
    "        cv2.imshow('image', imgRaw)\n",
    "\n",
    "cv2.imshow('image', imgRaw)\n",
    "cv2.setMouseCallback('image', clickEvent)\n",
    "cv2.waitKey(0)\n",
    "cv2.destroyAllWindows()"
   ]
  },
  {
   "cell_type": "markdown",
   "metadata": {},
   "source": [
    "* Obtener las ROI's de los diversos segementos de la pantalla LCD"
   ]
  },
  {
   "cell_type": "code",
   "execution_count": null,
   "metadata": {},
   "outputs": [],
   "source": [
    "coms = ['COM_1', 'COM_2', 'COM_3', 'COM_4', 'COM_5', 'COM_6', 'COM_7', 'COM_8']\n",
    "\n",
    "for com in coms:\n",
    "        imgRaw = cv2.imread(f\"img/{com}.png\")\n",
    "        ROI = cv2.selectROIs(\"selecting ROI's\", imgRaw, False, False)\n",
    "        print(f\"{com}:\\n\", ROI)"
   ]
  },
  {
   "cell_type": "markdown",
   "metadata": {},
   "source": [
    "#### JSON con la información de la calibración de la imagen en el banco de pruebas"
   ]
  },
  {
   "cell_type": "code",
   "execution_count": 3,
   "metadata": {},
   "outputs": [],
   "source": [
    "jsonJSON = {\n",
    "  \"lcd_coords\": [(285, 194), (1656, 231), (1643, 810), (272, 787)],\n",
    "    # \"roi_com_1_len\": 29,\n",
    "    # \"roi_com_1\": [],\n",
    "    # \"roi_com_2_len\": 29,\n",
    "    # \"roi_com_2\": [],\n",
    "    # \"roi_com_3_len\": 30,\n",
    "    # \"roi_com_3\": [],\n",
    "    # \"roi_com_4_len\": 30,\n",
    "    # \"roi_com_4\": [],\n",
    "    # \"roi_com_5_len\": 30,\n",
    "    # \"roi_com_5\": [],\n",
    "    # \"roi_com_6_len\": 30,\n",
    "    # \"roi_com_6\": [],\n",
    "    # \"roi_com_7_len\": 32,\n",
    "    # \"roi_com_7\": [],\n",
    "    # \"roi_com_8_len\": 26,\n",
    "    # \"roi_com_8\": [],   \n",
    "}"
   ]
  },
  {
   "cell_type": "code",
   "execution_count": 5,
   "metadata": {},
   "outputs": [],
   "source": [
    "class LCD:\n",
    "  lcdJSON = {\n",
    "    \"lcd_coords\": [(285, 194), (1656, 231), (1643, 810), (272, 787)],\n",
    "  }\n",
    "\n",
    "  def _orderPoints(self, pts: npt.ArrayLike) -> np.ndarray:\n",
    "    rect = np.zeros((4, 2), dtype = \"float32\")\n",
    "    s = pts.sum(axis = 1)\n",
    "    rect[0] = pts[np.argmin(s)]\n",
    "    rect[2] = pts[np.argmax(s)]\n",
    "    diff = np.diff(pts, axis = 1)\n",
    "    rect[1] = pts[np.argmin(diff)]\n",
    "    rect[3] = pts[np.argmax(diff)]\n",
    "    return rect\n",
    "\n",
    "\n",
    "  def _fourPointsTransform(self, image: npt.ArrayLike, pts: npt.ArrayLike) -> np.ndarray:\n",
    "      rect = self._orderPoints(pts)\n",
    "      (tl, tr, br, bl) = rect\n",
    "      widthA = np.sqrt(((br[0] - bl[0]) ** 2) + ((br[1] - bl[1]) ** 2))\n",
    "      widthB = np.sqrt(((tr[0] - tl[0]) ** 2) + ((tr[1] - tl[1]) ** 2))\n",
    "      maxWidth = max(int(widthA), int(widthB))\n",
    "      heightA = np.sqrt(((tr[0] - br[0]) ** 2) + ((tr[1] - br[1]) ** 2))\n",
    "      heightB = np.sqrt(((tl[0] - bl[0]) ** 2) + ((tl[1] - bl[1]) ** 2))\n",
    "      maxHeight = max(int(heightA), int(heightB))\n",
    "      dst = np.array([\n",
    "      [0, 0],\n",
    "      [maxWidth - 1, 0],\n",
    "      [maxWidth - 1, maxHeight - 1],\n",
    "      [0, maxHeight - 1]], dtype = \"float32\")\n",
    "      M = cv2.getPerspectiveTransform(rect, dst)\n",
    "      warped = cv2.warpPerspective(image, M, (maxWidth, maxHeight))\n",
    "      return warped\n",
    "\n",
    "\n",
    "  def getLCD(self, img: npt.ArrayLike) -> np.ndarray:\n",
    "      points = np.array(self.lcdJSON[\"lcd_coords\"], dtype = \"float32\")\n",
    "      return self._fourPointsTransform(img, points)"
   ]
  },
  {
   "cell_type": "code",
   "execution_count": 7,
   "metadata": {},
   "outputs": [],
   "source": [
    "lcd = LCD()\n",
    "coms = ['COM_1', 'COM_2', 'COM_3', 'COM_4', 'COM_5', 'COM_6', 'COM_7', 'COM_8']\n",
    "\n",
    "for com in coms:\n",
    "    imgRaw = cv2.imread(f\"img/{com}.png\")\n",
    "    imgLcd = lcd.getLCD(img=imgRaw)\n",
    "    cv2.imshow('image', imgLcd)\n",
    "    plt.show()"
   ]
  }
 ],
 "metadata": {
  "interpreter": {
   "hash": "bb4eabb1ac3a6da3e3144f8b3a8c6aa5b7a8ea5945a72fc92930a8be5249fbf3"
  },
  "kernelspec": {
   "display_name": "Python 3.9.10 ('MDAUD-vision-LCD-Unlio3vg')",
   "language": "python",
   "name": "python3"
  },
  "language_info": {
   "codemirror_mode": {
    "name": "ipython",
    "version": 3
   },
   "file_extension": ".py",
   "mimetype": "text/x-python",
   "name": "python",
   "nbconvert_exporter": "python",
   "pygments_lexer": "ipython3",
   "version": "3.9.10"
  },
  "orig_nbformat": 4
 },
 "nbformat": 4,
 "nbformat_minor": 2
}
